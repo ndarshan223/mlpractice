# Import necessary libraries
import numpy as np
import pandas as pd
import matplotlib.pyplot as plt
from sklearn.linear_model import LogisticRegression
from sklearn.metrics import log_loss

# Define the OR gate inputs and outputs
X = np.array([[0, 0], [0, 1], [1, 0], [1, 1]])
y = np.array([0, 1, 1, 1])

# Create and train the logistic regression model
model = LogisticRegression()
model.fit(X, y)

# Predict the outputs
y_pred = model.predict(X)
y_prob = model.predict_proba(X)[:, 1]

# Calculate the binary cross-entropy loss
loss = log_loss(y, y_prob)

# Print the results
print("Predicted outputs:", y_pred)
print("Predicted probabilities:", y_prob)
print("Binary cross-entropy loss:", loss)

# Plot the decision boundary
xx, yy = np.mgrid[0:1.01:.01, 0:1.01:.01]
grid = np.c_[xx.ravel(), yy.ravel()]
probs = model.predict_proba(grid)[:, 1].reshape(xx.shape)

plt.contourf(xx, yy, probs, 25, cmap="RdBu", alpha=0.8)
plt.scatter(X[:, 0], X[:, 1], c=y, s=50, cmap="RdBu", edgecolor="white", linewidth=1)
plt.title("Logistic Regression Decision Boundary for OR Gate")
plt.xlabel("Input 1")
plt.ylabel("Input 2")
plt.show()
