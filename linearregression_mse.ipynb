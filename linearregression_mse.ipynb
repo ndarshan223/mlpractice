# Generalized Linear Regression Model without External Libraries

import numpy as np
import matplotlib.pyplot as plt

# Generate synthetic data
np.random.seed(0) # random seed help to keep constant randoms in program
X = 2 * np.random.rand(100, 1)
y = 4 + 3 * X + np.random.randn(100, 1)

# Plot the data
plt.scatter(X, y)
plt.xlabel("X")
plt.ylabel("y")
plt.title("Synthetic Data")
plt.show()

# Initialize parameters
theta = np.random.randn(2, 1)  # Random initialization
print(type(theta))
learning_rate = 0.01
n_iterations = 10
m = len(X)

# Add x0 = 1 to each instance
X_b = np.c_[np.ones((m, 1)), X]

# Function to compute Mean Squared Error (MSE)
def compute_mse(X_b, y, theta):
    predictions = X_b.dot(theta)
    mse = (1/m) * np.sum((predictions - y) ** 2)
    return mse

# Gradient Descent
mse_history = []
for iteration in range(n_iterations):
    gradients = 2/m * X_b.T.dot(X_b.dot(theta) - y)
    theta = theta - learning_rate * gradients
    mse = compute_mse(X_b, y, theta)
    mse_history.append(mse)

# Plot MSE over iterations
plt.plot(mse_history)
plt.xlabel("Iteration")
plt.ylabel("MSE")
plt.title("MSE over Iterations")
plt.show()

# Final parameters
print("Theta:", theta)

# Plot the regression line
plt.scatter(X, y)
plt.plot(X, X_b.dot(theta), color='red')
plt.xlabel("X")
plt.ylabel("y")
plt.title("Linear Regression Fit")
plt.show()
