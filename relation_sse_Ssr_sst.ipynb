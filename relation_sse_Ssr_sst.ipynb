# Import necessary libraries
import numpy as np

# Create a simple dataset
# Hours studied vs. Exam scores
hours = np.array([1, 2, 3, 4, 5])
scores = np.array([1.5, 1.7, 3.2, 4.0, 5.1])

# Calculate the mean of scores
mean_scores = np.mean(scores)

# Calculate the predicted scores using a simple linear regression model
# Here, we manually calculate the slope (m) and intercept (b) of the line
m = np.sum((hours - np.mean(hours)) * (scores - mean_scores)) / np.sum((hours - np.mean(hours))**2)
b = mean_scores - m * np.mean(hours)
predicted_scores = m * hours + b

# Calculate SST (Total Sum of Squares)
SST = np.sum((scores - mean_scores)**2)

# Calculate SSR (Sum of Squares due to Regression)
SSR = np.sum((predicted_scores - mean_scores)**2)

# Calculate SSE (Sum of Squares due to Error)
SSE = np.sum((scores - predicted_scores)**2)

# Print the results
print(f"SST (Total Sum of Squares): {SST}")
print(f"SSR (Sum of Squares due to Regression): {SSR}")
print(f"SSE (Sum of Squares due to Error): {SSE}")
